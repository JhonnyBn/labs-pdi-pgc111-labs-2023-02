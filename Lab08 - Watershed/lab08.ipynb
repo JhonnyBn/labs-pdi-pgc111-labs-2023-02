{
 "cells": [
  {
   "cell_type": "code",
   "execution_count": 5,
   "metadata": {},
   "outputs": [],
   "source": [
    "import cv2\n",
    "import matplotlib.pyplot as plt\n",
    "import numpy as np\n",
    "\n",
    "plt.rcParams['figure.dpi'] = 200"
   ]
  },
  {
   "attachments": {},
   "cell_type": "markdown",
   "metadata": {},
   "source": [
    "1) Aplique nas imagens abaixo o algortimo Watershed para realizar a contagem de células. Faça tanto para  a imagem original e para a imagem gradiente"
   ]
  },
  {
   "cell_type": "code",
   "execution_count": 54,
   "metadata": {},
   "outputs": [
    {
     "name": "stdout",
     "output_type": "stream",
     "text": [
      "1388\n"
     ]
    }
   ],
   "source": [
    "# Carregar a imagem original\n",
    "imagem_original = cv2.cvtColor(cv2.imread('image.jpg'), cv2.COLOR_BGR2RGB)\n",
    "imagem_gray = cv2.cvtColor(imagem_original, cv2.COLOR_BGR2GRAY)\n",
    "\n",
    "# Suavizar a imagem em tons de cinza com um filtro gaussiano\n",
    "imagem_suavizada = cv2.GaussianBlur(imagem_gray, (5, 5), 0)\n",
    "\n",
    "# Calcular o gradiente usando o operador Sobel\n",
    "grad_x = cv2.Sobel(imagem_suavizada, cv2.CV_64F, 1, 0, ksize=3)\n",
    "grad_y = cv2.Sobel(imagem_suavizada, cv2.CV_64F, 0, 1, ksize=3)\n",
    "magnitude_gradiente = np.sqrt(grad_x**2 + grad_y**2)\n",
    "magnitude_gradiente = cv2.normalize(magnitude_gradiente, None, 0, 255, cv2.NORM_MINMAX).astype(np.uint8)\n",
    "\n",
    "# Binarizar a imagem\n",
    "_, binarizada = cv2.threshold(magnitude_gradiente, 0, 255, cv2.THRESH_BINARY + cv2.THRESH_OTSU)\n",
    "\n",
    "# Calculo da distancia e marcadores\n",
    "transformada_distancia = cv2.distanceTransform(binarizada, cv2.DIST_L2, 3)\n",
    "_, marcadores = cv2.connectedComponents(binarizada)\n",
    "marcadores = marcadores + 1\n",
    "marcadores[transformada_distancia > 0.7 * transformada_distancia.max()] = 0\n",
    "\n",
    "# Aplicar Watershed na imagem original\n",
    "cv2.watershed(imagem_original, marcadores)\n",
    "\n",
    "# Contar o número de células\n",
    "contagem_celulas = len(np.unique(marcadores)) - 1\n",
    "print(contagem_celulas)"
   ]
  },
  {
   "cell_type": "code",
   "execution_count": 51,
   "metadata": {},
   "outputs": [
    {
     "name": "stdout",
     "output_type": "stream",
     "text": [
      "1952\n"
     ]
    }
   ],
   "source": [
    "# Carregar a imagem original\n",
    "imagem_original = cv2.cvtColor(cv2.imread('image2.jpg'), cv2.COLOR_BGR2RGB)\n",
    "imagem_gray = cv2.cvtColor(imagem_original, cv2.COLOR_BGR2GRAY)\n",
    "\n",
    "# Suavizar a imagem em tons de cinza com um filtro gaussiano\n",
    "imagem_suavizada = cv2.GaussianBlur(imagem_gray, (5, 5), 0)\n",
    "\n",
    "# Calcular o gradiente usando o operador Sobel\n",
    "grad_x = cv2.Sobel(imagem_suavizada, cv2.CV_64F, 1, 0, ksize=3)\n",
    "grad_y = cv2.Sobel(imagem_suavizada, cv2.CV_64F, 0, 1, ksize=3)\n",
    "magnitude_gradiente = np.sqrt(grad_x**2 + grad_y**2)\n",
    "magnitude_gradiente = cv2.normalize(magnitude_gradiente, None, 0, 255, cv2.NORM_MINMAX).astype(np.uint8)\n",
    "\n",
    "# Binarizar a imagem\n",
    "_, binarizada = cv2.threshold(magnitude_gradiente, 0, 255, cv2.THRESH_BINARY + cv2.THRESH_OTSU)\n",
    "\n",
    "# Calculo da distancia e marcadores\n",
    "transformada_distancia = cv2.distanceTransform(binarizada, cv2.DIST_L2, 3)\n",
    "_, marcadores = cv2.connectedComponents(binarizada)\n",
    "marcadores = marcadores + 1\n",
    "marcadores[transformada_distancia > 0.7 * transformada_distancia.max()] = 0\n",
    "\n",
    "# Aplicar Watershed na imagem original\n",
    "cv2.watershed(imagem_original, marcadores)\n",
    "\n",
    "# Contar o número de células\n",
    "contagem_celulas = len(np.unique(marcadores)) - 1\n",
    "print(contagem_celulas)"
   ]
  },
  {
   "cell_type": "code",
   "execution_count": 52,
   "metadata": {},
   "outputs": [
    {
     "name": "stdout",
     "output_type": "stream",
     "text": [
      "12329\n"
     ]
    }
   ],
   "source": [
    "# Carregar a imagem original\n",
    "imagem_original = cv2.cvtColor(cv2.imread('feijao.jpg'), cv2.COLOR_BGR2RGB)\n",
    "imagem_gray = cv2.cvtColor(imagem_original, cv2.COLOR_BGR2GRAY)\n",
    "\n",
    "# Suavizar a imagem em tons de cinza com um filtro gaussiano\n",
    "imagem_suavizada = cv2.GaussianBlur(imagem_gray, (5, 5), 0)\n",
    "\n",
    "# Calcular o gradiente usando o operador Sobel\n",
    "grad_x = cv2.Sobel(imagem_suavizada, cv2.CV_64F, 1, 0, ksize=3)\n",
    "grad_y = cv2.Sobel(imagem_suavizada, cv2.CV_64F, 0, 1, ksize=3)\n",
    "magnitude_gradiente = np.sqrt(grad_x**2 + grad_y**2)\n",
    "magnitude_gradiente = cv2.normalize(magnitude_gradiente, None, 0, 255, cv2.NORM_MINMAX).astype(np.uint8)\n",
    "\n",
    "# Binarizar a imagem\n",
    "_, binarizada = cv2.threshold(magnitude_gradiente, 0, 255, cv2.THRESH_BINARY + cv2.THRESH_OTSU)\n",
    "\n",
    "# Calculo da distancia e marcadores\n",
    "transformada_distancia = cv2.distanceTransform(binarizada, cv2.DIST_L2, 3)\n",
    "_, marcadores = cv2.connectedComponents(binarizada)\n",
    "marcadores = marcadores + 1\n",
    "marcadores[transformada_distancia > 0.7 * transformada_distancia.max()] = 0\n",
    "\n",
    "# Aplicar Watershed na imagem original\n",
    "cv2.watershed(imagem_original, marcadores)\n",
    "\n",
    "# Contar o número de células\n",
    "contagem_celulas = len(np.unique(marcadores)) - 1\n",
    "print(contagem_celulas)"
   ]
  }
 ],
 "metadata": {
  "kernelspec": {
   "display_name": "Python 3",
   "language": "python",
   "name": "python3"
  },
  "language_info": {
   "codemirror_mode": {
    "name": "ipython",
    "version": 3
   },
   "file_extension": ".py",
   "mimetype": "text/x-python",
   "name": "python",
   "nbconvert_exporter": "python",
   "pygments_lexer": "ipython3",
   "version": "3.10.4"
  },
  "orig_nbformat": 4
 },
 "nbformat": 4,
 "nbformat_minor": 2
}
